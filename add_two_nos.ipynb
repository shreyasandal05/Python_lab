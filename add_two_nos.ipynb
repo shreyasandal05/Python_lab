{
 "cells": [
  {
   "cell_type": "markdown",
   "id": "f74c91ab",
   "metadata": {},
   "source": [
    "# Application to add two numbers"
   ]
  },
  {
   "cell_type": "code",
   "execution_count": 25,
   "id": "a04738bd",
   "metadata": {},
   "outputs": [],
   "source": [
    "import tkinter as tk\n",
    "root=tk.Tk()\n",
    "root.title('Add')\n",
    "root.geometry('600x600')\n",
    "root.resizable(0,0)\n",
    "\n",
    "\n",
    "def Add():\n",
    "    emptylabel.config(text='Sum of two numbers= '+str(first.get()+second.get()))\n",
    "\n",
    "label1=tk.Label(root,text='First number:',font=('Arial',14))\n",
    "label1.grid(row=0,column=1,padx=100)\n",
    "\n",
    "label2=tk.Label(root,text='Second number:',font=('Arial',14))\n",
    "label2.grid(row=1,column=1,padx=100)\n",
    "\n",
    "first=tk.IntVar()\n",
    "second=tk.IntVar()\n",
    "\n",
    "textbox1=tk.Entry(root,textvariable=first)\n",
    "textbox1.grid(row=0,column=2)\n",
    "\n",
    "textbox2=tk.Entry(root,textvariable=second)\n",
    "textbox2.grid(row=1,column=2)\n",
    "\n",
    "button=tk.Button(root,command=Add,text='Save',bg='yellow')\n",
    "button.grid(row=2,column=2)\n",
    "\n",
    "emptylabel=tk.Label(root,font=('Arial',14,'bold'))\n",
    "emptylabel.grid(row=3,column=1,padx=50,sticky='w')\n",
    "\n",
    "root.mainloop()"
   ]
  }
 ],
 "metadata": {
  "kernelspec": {
   "display_name": "Python 3 (ipykernel)",
   "language": "python",
   "name": "python3"
  },
  "language_info": {
   "codemirror_mode": {
    "name": "ipython",
    "version": 3
   },
   "file_extension": ".py",
   "mimetype": "text/x-python",
   "name": "python",
   "nbconvert_exporter": "python",
   "pygments_lexer": "ipython3",
   "version": "3.9.5"
  }
 },
 "nbformat": 4,
 "nbformat_minor": 5
}
