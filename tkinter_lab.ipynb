{
 "cells": [
  {
   "cell_type": "markdown",
   "id": "863d9acb",
   "metadata": {},
   "source": [
    "# Creating basic window"
   ]
  },
  {
   "cell_type": "code",
   "execution_count": 7,
   "id": "3ab5ccec",
   "metadata": {},
   "outputs": [],
   "source": [
    "import tkinter as tk\n",
    "root=tk.Tk()\n",
    "root.title(\"Hello class\")\n",
    "root.geometry('500x500')\n",
    "root.resizable(False,False)\n",
    "root.config(bg=\"yellow\")\n",
    "\n",
    "root.mainloop()"
   ]
  },
  {
   "cell_type": "markdown",
   "id": "7bba0b86",
   "metadata": {},
   "source": [
    "# Label and packing"
   ]
  },
  {
   "cell_type": "code",
   "execution_count": 49,
   "id": "67171457",
   "metadata": {},
   "outputs": [],
   "source": [
    "#from tkinter.ttk import *\n",
    "\n",
    "root=tk.Tk()\n",
    "root.title('Learning label and packing')\n",
    "root.geometry('600x600')\n",
    "#root.resizable(0,0)\n",
    "root.config(bg='blue')\n",
    "\n",
    "label1=tk.Label(root,text='Hi there,welcome!')\n",
    "label1.config(bg='blue',fg='yellow',font=('Arial',18,'bold'))\n",
    "#label1.pack(fill='both',expand='False')\n",
    "label1.grid(row=0,column=1,pady=5,ipadx=10,ipady=20)\n",
    "\n",
    "# Never mix grid and pack in the same window!\n",
    "\n",
    "label2=tk.Label(root,text='Tkinter tutorial',bg='orange',fg='red',font=('Arial',18,'bold'))\n",
    "#label2.pack(pady=10,ipadx=20,ipady=30)\n",
    "label2.grid(row=1,column=1,pady=(10,0),ipadx=10,ipady=10)  # pady=(10,0) means if we want to give padding from top only.\n",
    "\n",
    "root.mainloop()"
   ]
  }
 ],
 "metadata": {
  "kernelspec": {
   "display_name": "Python 3 (ipykernel)",
   "language": "python",
   "name": "python3"
  },
  "language_info": {
   "codemirror_mode": {
    "name": "ipython",
    "version": 3
   },
   "file_extension": ".py",
   "mimetype": "text/x-python",
   "name": "python",
   "nbconvert_exporter": "python",
   "pygments_lexer": "ipython3",
   "version": "3.9.5"
  }
 },
 "nbformat": 4,
 "nbformat_minor": 5
}
